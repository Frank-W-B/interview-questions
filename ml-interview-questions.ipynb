{
 "cells": [
  {
   "cell_type": "code",
   "execution_count": 23,
   "metadata": {
    "collapsed": true
   },
   "outputs": [],
   "source": [
    "import numpy as np\n",
    "import statsmodels.formula.api as smf\n",
    "\n",
    "from sklearn.preprocessing import OneHotEncoder\n",
    "from sklearn.linear_model import LinearRegression\n",
    "\n",
    "\n",
    "%matplotlib inline\n",
    "import matplotlib.pyplot as plt\n",
    "plt.style.use('ggplot')"
   ]
  },
  {
   "cell_type": "markdown",
   "metadata": {},
   "source": [
    "## Trees"
   ]
  },
  {
   "cell_type": "code",
   "execution_count": 2,
   "metadata": {
    "collapsed": true
   },
   "outputs": [],
   "source": [
    "def draw_scatter_along_line(ax, y_intercept, slope, sigma, color):\n",
    "    t = np.linspace(0, 1, 100)\n",
    "    y = y_intercept + slope * t + np.random.normal(0.0, sigma, size=100)\n",
    "    ax.scatter(t, y, color=color, s=30)"
   ]
  },
  {
   "cell_type": "markdown",
   "metadata": {},
   "source": [
    "Consider the following data set, which has two features `x` and `color`, and a reposnse varaible `y`.  The task at hand is to use the two features to predict `y`."
   ]
  },
  {
   "cell_type": "code",
   "execution_count": 7,
   "metadata": {},
   "outputs": [
    {
     "data": {
      "text/plain": [
       "<matplotlib.text.Text at 0x10c2d35d0>"
      ]
     },
     "execution_count": 7,
     "metadata": {},
     "output_type": "execute_result"
    },
    {
     "data": {
      "image/png": "[encoded data removed]",
      "text/plain": [
       "<matplotlib.figure.Figure at 0x10c3cb250>"
      ]
     },
     "metadata": {},
     "output_type": "display_data"
    }
   ],
   "source": [
    "fig, ax = plt.subplots(figsize=(6, 6))\n",
    "\n",
    "draw_scatter_along_line(ax, 0, 1, 0.1, \"red\")\n",
    "draw_scatter_along_line(ax, 1, -1, 0.1, \"blue\")\n",
    "ax.set_xlabel(\"$x$\")\n",
    "ax.set_ylabel(\"$y$\")"
   ]
  },
  {
   "cell_type": "markdown",
   "metadata": {},
   "source": [
    "1. What varaible would it be *best* for the regression tree to split on first?\n",
    "1. What varaible do you think the regression tree will *actually* split on first?\n",
    "1. How will a regression tree perform at predicting `y` given `color` and `x`?\n",
    "1. How will a random forest perform at predicting `y` given `color` and `x`?\n",
    "1. How will a gradient boosting model perform at predicting `y` given `color` and `x`?\n",
    "1. What model would be appropriate for this data?\n"
   ]
  },
  {
   "cell_type": "markdown",
   "metadata": {},
   "source": [
    "## Random Forest"
   ]
  },
  {
   "cell_type": "markdown",
   "metadata": {},
   "source": [
    "In the previous setup, how would a Random varaible preform in predicting $y$?"
   ]
  },
  {
   "cell_type": "markdown",
   "metadata": {},
   "source": [
    "## Linear Regression"
   ]
  },
  {
   "cell_type": "markdown",
   "metadata": {},
   "source": [
    "1. Critique this [statement](https://stats.stackexchange.com/questions/175771/overfitting-with-linear-classifiers/175774#175774):\n",
    "    \n",
    "    > Today our professor stated in class that \"overfitting with linear classifiers is not possible\".\n",
    "    \n",
    "1. Can you give an example where a linear model overfits?\n",
    "\n",
    "Consider the following python code, which creates a class varaible with many levels, and then uses it to fit to random noise:"
   ]
  },
  {
   "cell_type": "code",
   "execution_count": 27,
   "metadata": {},
   "outputs": [
    {
     "data": {
      "text/plain": [
       "LinearRegression(copy_X=True, fit_intercept=False, n_jobs=1, normalize=False)"
      ]
     },
     "execution_count": 27,
     "metadata": {},
     "output_type": "execute_result"
    }
   ],
   "source": [
    "# Create a catagorical varaible with 100 unique levels, then one hot encode it into\n",
    "# binary indicators to use in a regression.\n",
    "factor = np.random.choice(range(100), size=5000, replace=True)\n",
    "enc = OneHotEncoder()\n",
    "indicators = enc.fit_transform(factor.reshape(-1, 1))\n",
    "\n",
    "# Create a response as random noise.\n",
    "y = np.random.normal(size=5000)\n",
    "\n",
    "# Fit the regression.\n",
    "lr = LinearRegression(fit_intercept=False)\n",
    "lr.fit(indicators, y)"
   ]
  },
  {
   "cell_type": "markdown",
   "metadata": {},
   "source": [
    "3. What are the *correct* coefficients in this linear model (not what this code actually produces)?\n",
    "\n",
    "4. Why did we *not* fit an intercept term in this regression?\n",
    "\n",
    "4. How would you describe the fit coefficients that this code actually produces?\n",
    "\n",
    "4. How would you change the model so that it produces the *correct* coefficients?"
   ]
  },
  {
   "cell_type": "markdown",
   "metadata": {},
   "source": [
    "## Time Series"
   ]
  },
  {
   "cell_type": "markdown",
   "metadata": {},
   "source": [
    "1. Why is linear regression not sufficient to model time series data?\n",
    "1. Why is linear regression *with transformations like splines* not suffiencient to model time series data?\n",
    "1. Define MA and AR models.  How are they fit to data?\n",
    "1. Suppose that a time series obeys an MA model.  At some time there is a *shock*, i.e. an unexpected event that causes an extreme value of the series.  How would you expect this extreme value to influence later observations in the series?\n",
    "1. Suppose that a time series obeys an AR model.  At some time there is a *shock*, i.e. an unexpected event that causes an extreme value of the series.  How would you expect this extreme value to influence later observations in the series?"
   ]
  },
  {
   "cell_type": "markdown",
   "metadata": {
    "collapsed": true
   },
   "source": [
    "## Gradient Boosting"
   ]
  },
  {
   "cell_type": "markdown",
   "metadata": {},
   "source": [
    "1. Explain how a gradient boosting regression tree model work (you may assume I understand how regression trees work).  That is, how does gradient boosting minimize the residual squared error\n",
    "\n",
    "$$ L = \\sum_i (y_i - \\hat y_i)^2 $$\n",
    "\n",
    "2. It's often observed that we could boost *any* model, not just regression trees.  Why are trees a good choice?\n",
    "\n",
    "3. What would happen if we boosted linear regression models (on one varaible) instead?"
   ]
  }
 ],
 "metadata": {
  "kernelspec": {
   "display_name": "Python [conda root]",
   "language": "python",
   "name": "conda-root-py"
  },
  "language_info": {
   "codemirror_mode": {
    "name": "ipython",
    "version": 2
   },
   "file_extension": ".py",
   "mimetype": "text/x-python",
   "name": "python",
   "nbconvert_exporter": "python",
   "pygments_lexer": "ipython2",
   "version": "2.7.13"
  }
 },
 "nbformat": 4,
 "nbformat_minor": 2
}
